{
 "cells": [
  {
   "cell_type": "code",
   "execution_count": 1,
   "metadata": {},
   "outputs": [],
   "source": [
    "import numpy as np\n",
    "import xarray as xr\n",
    "import pandas as pd\n",
    "import matplotlib.pyplot as plt\n",
    "import glob\n",
    "import cartopy.crs as ccrs\n",
    "from cartopy.mpl.ticker import LongitudeFormatter,LatitudeFormatter\n",
    "from mpl_toolkits.axes_grid1.axes_divider import make_axes_locatable"
   ]
  },
  {
   "cell_type": "code",
   "execution_count": 5,
   "metadata": {},
   "outputs": [],
   "source": [
    "files = glob.glob(\"../NorESM2-LM/tasmax_day*\")\n",
    "files.sort()\n",
    "tasmax_NorESM = xr.open_mfdataset(files)\n",
    "\n",
    "files = glob.glob(\"../NorESM2-LM/tasmin_day*\")\n",
    "files.sort()\n",
    "tasmin_NorESM = xr.open_mfdataset(files)"
   ]
  },
  {
   "cell_type": "code",
   "execution_count": 8,
   "metadata": {},
   "outputs": [],
   "source": [
    "tmax = tasmax_NorESM.tasmax.sel(lat=slice(57.6, 72.8), \n",
    "                        lon=slice(1.4, 34.7), \n",
    "                        time=slice('2015-01-01', '2055-01-01'))\n",
    "\n",
    "tmin = tasmin_NorESM.tasmin.sel(lat=slice(57.6, 72.8), \n",
    "                        lon=slice(1.4, 34.7), \n",
    "                        time=slice('2015-01-01', '2055-01-01'))"
   ]
  },
  {
   "cell_type": "code",
   "execution_count": 16,
   "metadata": {},
   "outputs": [],
   "source": [
    "def TNmin(da):\n",
    "    # Calculate annual minimum temperature\n",
    "    n_lats = len(da.lat)\n",
    "    n_lons = len(da.lon)\n",
    "    n_years = int(len(da.time)/365)\n",
    "\n",
    "    annual_minimum_temperatures = np.zeros((n_lats, n_lons, n_years))\n",
    "\n",
    "    for lat in range(n_lats):\n",
    "        print(lat, \"of 8\")\n",
    "        for lon in range(n_lons):\n",
    "            for year in range(n_years):\n",
    "                da_i = da.isel(lat=lat, lon=lon, time=slice(year*365,(year+1)*365))\n",
    "                TNmin = min(da_i)\n",
    "\n",
    "                annual_minimum_temperatures[lat, lon, year] = TNmin\n",
    "    \n",
    "    return annual_minimum_temperatures\n",
    "\n",
    "\n",
    "\n",
    "def TXmax(tasmax):\n",
    "    # Annual maximum temperature\n",
    "    latitudes = tasmax.lat\n",
    "    longitudes = tasmax.lon\n",
    "    years = int(len(tasmax.time)/365)\n"
   ]
  },
  {
   "cell_type": "code",
   "execution_count": 17,
   "metadata": {},
   "outputs": [
    {
     "name": "stdout",
     "output_type": "stream",
     "text": [
      "0 of 8\n"
     ]
    },
    {
     "ename": "KeyboardInterrupt",
     "evalue": "",
     "output_type": "error",
     "traceback": [
      "\u001b[0;31m---------------------------------------------------------------------------\u001b[0m",
      "\u001b[0;31mAttributeError\u001b[0m                            Traceback (most recent call last)",
      "File \u001b[0;32m~/anaconda3/envs/t3/lib/python3.11/site-packages/dask/highlevelgraph.py:570\u001b[0m, in \u001b[0;36mHighLevelGraph.get_all_external_keys\u001b[0;34m(self)\u001b[0m\n\u001b[1;32m    569\u001b[0m \u001b[38;5;28;01mtry\u001b[39;00m:\n\u001b[0;32m--> 570\u001b[0m     \u001b[38;5;28;01mreturn\u001b[39;00m \u001b[38;5;28mself\u001b[39m\u001b[38;5;241m.\u001b[39m_all_external_keys\n\u001b[1;32m    571\u001b[0m \u001b[38;5;28;01mexcept\u001b[39;00m \u001b[38;5;167;01mAttributeError\u001b[39;00m:\n",
      "\u001b[0;31mAttributeError\u001b[0m: 'HighLevelGraph' object has no attribute '_all_external_keys'",
      "\nDuring handling of the above exception, another exception occurred:\n",
      "\u001b[0;31mKeyboardInterrupt\u001b[0m                         Traceback (most recent call last)",
      "Cell \u001b[0;32mIn[17], line 1\u001b[0m\n\u001b[0;32m----> 1\u001b[0m TNmin \u001b[38;5;241m=\u001b[39m TNmin(tmin)\n\u001b[1;32m      2\u001b[0m TNmin\n",
      "Cell \u001b[0;32mIn[16], line 14\u001b[0m, in \u001b[0;36mTNmin\u001b[0;34m(da)\u001b[0m\n\u001b[1;32m     12\u001b[0m         \u001b[38;5;28;01mfor\u001b[39;00m year \u001b[38;5;129;01min\u001b[39;00m \u001b[38;5;28mrange\u001b[39m(n_years):\n\u001b[1;32m     13\u001b[0m             da_i \u001b[38;5;241m=\u001b[39m da\u001b[38;5;241m.\u001b[39misel(lat\u001b[38;5;241m=\u001b[39mlat, lon\u001b[38;5;241m=\u001b[39mlon, time\u001b[38;5;241m=\u001b[39m\u001b[38;5;28mslice\u001b[39m(year\u001b[38;5;241m*\u001b[39m\u001b[38;5;241m365\u001b[39m,(year\u001b[38;5;241m+\u001b[39m\u001b[38;5;241m1\u001b[39m)\u001b[38;5;241m*\u001b[39m\u001b[38;5;241m365\u001b[39m))\n\u001b[0;32m---> 14\u001b[0m             TNmin \u001b[38;5;241m=\u001b[39m \u001b[38;5;28mmin\u001b[39m(da_i)\n\u001b[1;32m     16\u001b[0m             annual_minimum_temperatures[lat, lon, year] \u001b[38;5;241m=\u001b[39m TNmin\n\u001b[1;32m     18\u001b[0m \u001b[38;5;28;01mreturn\u001b[39;00m annual_minimum_temperatures\n",
      "File \u001b[0;32m~/anaconda3/envs/t3/lib/python3.11/site-packages/xarray/core/common.py:154\u001b[0m, in \u001b[0;36mAbstractArray.__bool__\u001b[0;34m(self)\u001b[0m\n\u001b[1;32m    153\u001b[0m \u001b[38;5;28;01mdef\u001b[39;00m \u001b[38;5;21m__bool__\u001b[39m(\u001b[38;5;28mself\u001b[39m: Any) \u001b[38;5;241m-\u001b[39m\u001b[38;5;241m>\u001b[39m \u001b[38;5;28mbool\u001b[39m:\n\u001b[0;32m--> 154\u001b[0m     \u001b[38;5;28;01mreturn\u001b[39;00m \u001b[38;5;28mbool\u001b[39m(\u001b[38;5;28mself\u001b[39m\u001b[38;5;241m.\u001b[39mvalues)\n",
      "File \u001b[0;32m~/anaconda3/envs/t3/lib/python3.11/site-packages/xarray/core/dataarray.py:814\u001b[0m, in \u001b[0;36mDataArray.values\u001b[0;34m(self)\u001b[0m\n\u001b[1;32m    801\u001b[0m \u001b[38;5;129m@property\u001b[39m\n\u001b[1;32m    802\u001b[0m \u001b[38;5;28;01mdef\u001b[39;00m \u001b[38;5;21mvalues\u001b[39m(\u001b[38;5;28mself\u001b[39m) \u001b[38;5;241m-\u001b[39m\u001b[38;5;241m>\u001b[39m np\u001b[38;5;241m.\u001b[39mndarray:\n\u001b[1;32m    803\u001b[0m \u001b[38;5;250m    \u001b[39m\u001b[38;5;124;03m\"\"\"\u001b[39;00m\n\u001b[1;32m    804\u001b[0m \u001b[38;5;124;03m    The array's data converted to numpy.ndarray.\u001b[39;00m\n\u001b[1;32m    805\u001b[0m \n\u001b[0;32m   (...)\u001b[0m\n\u001b[1;32m    812\u001b[0m \u001b[38;5;124;03m    to this array may be reflected in the DataArray as well.\u001b[39;00m\n\u001b[1;32m    813\u001b[0m \u001b[38;5;124;03m    \"\"\"\u001b[39;00m\n\u001b[0;32m--> 814\u001b[0m     \u001b[38;5;28;01mreturn\u001b[39;00m \u001b[38;5;28mself\u001b[39m\u001b[38;5;241m.\u001b[39mvariable\u001b[38;5;241m.\u001b[39mvalues\n",
      "File \u001b[0;32m~/anaconda3/envs/t3/lib/python3.11/site-packages/xarray/core/variable.py:566\u001b[0m, in \u001b[0;36mVariable.values\u001b[0;34m(self)\u001b[0m\n\u001b[1;32m    563\u001b[0m \u001b[38;5;129m@property\u001b[39m\n\u001b[1;32m    564\u001b[0m \u001b[38;5;28;01mdef\u001b[39;00m \u001b[38;5;21mvalues\u001b[39m(\u001b[38;5;28mself\u001b[39m) \u001b[38;5;241m-\u001b[39m\u001b[38;5;241m>\u001b[39m np\u001b[38;5;241m.\u001b[39mndarray:\n\u001b[1;32m    565\u001b[0m \u001b[38;5;250m    \u001b[39m\u001b[38;5;124;03m\"\"\"The variable's data as a numpy.ndarray\"\"\"\u001b[39;00m\n\u001b[0;32m--> 566\u001b[0m     \u001b[38;5;28;01mreturn\u001b[39;00m _as_array_or_item(\u001b[38;5;28mself\u001b[39m\u001b[38;5;241m.\u001b[39m_data)\n",
      "File \u001b[0;32m~/anaconda3/envs/t3/lib/python3.11/site-packages/xarray/core/variable.py:363\u001b[0m, in \u001b[0;36m_as_array_or_item\u001b[0;34m(data)\u001b[0m\n\u001b[1;32m    349\u001b[0m \u001b[38;5;28;01mdef\u001b[39;00m \u001b[38;5;21m_as_array_or_item\u001b[39m(data):\n\u001b[1;32m    350\u001b[0m \u001b[38;5;250m    \u001b[39m\u001b[38;5;124;03m\"\"\"Return the given values as a numpy array, or as an individual item if\u001b[39;00m\n\u001b[1;32m    351\u001b[0m \u001b[38;5;124;03m    it's a 0d datetime64 or timedelta64 array.\u001b[39;00m\n\u001b[1;32m    352\u001b[0m \n\u001b[0;32m   (...)\u001b[0m\n\u001b[1;32m    361\u001b[0m \u001b[38;5;124;03m    TODO: remove this (replace with np.asarray) once these issues are fixed\u001b[39;00m\n\u001b[1;32m    362\u001b[0m \u001b[38;5;124;03m    \"\"\"\u001b[39;00m\n\u001b[0;32m--> 363\u001b[0m     data \u001b[38;5;241m=\u001b[39m np\u001b[38;5;241m.\u001b[39masarray(data)\n\u001b[1;32m    364\u001b[0m     \u001b[38;5;28;01mif\u001b[39;00m data\u001b[38;5;241m.\u001b[39mndim \u001b[38;5;241m==\u001b[39m \u001b[38;5;241m0\u001b[39m:\n\u001b[1;32m    365\u001b[0m         \u001b[38;5;28;01mif\u001b[39;00m data\u001b[38;5;241m.\u001b[39mdtype\u001b[38;5;241m.\u001b[39mkind \u001b[38;5;241m==\u001b[39m \u001b[38;5;124m\"\u001b[39m\u001b[38;5;124mM\u001b[39m\u001b[38;5;124m\"\u001b[39m:\n",
      "File \u001b[0;32m~/anaconda3/envs/t3/lib/python3.11/site-packages/dask/array/core.py:1709\u001b[0m, in \u001b[0;36mArray.__array__\u001b[0;34m(self, dtype, **kwargs)\u001b[0m\n\u001b[1;32m   1708\u001b[0m \u001b[38;5;28;01mdef\u001b[39;00m \u001b[38;5;21m__array__\u001b[39m(\u001b[38;5;28mself\u001b[39m, dtype\u001b[38;5;241m=\u001b[39m\u001b[38;5;28;01mNone\u001b[39;00m, \u001b[38;5;241m*\u001b[39m\u001b[38;5;241m*\u001b[39mkwargs):\n\u001b[0;32m-> 1709\u001b[0m     x \u001b[38;5;241m=\u001b[39m \u001b[38;5;28mself\u001b[39m\u001b[38;5;241m.\u001b[39mcompute()\n\u001b[1;32m   1710\u001b[0m     \u001b[38;5;28;01mif\u001b[39;00m dtype \u001b[38;5;129;01mand\u001b[39;00m x\u001b[38;5;241m.\u001b[39mdtype \u001b[38;5;241m!=\u001b[39m dtype:\n\u001b[1;32m   1711\u001b[0m         x \u001b[38;5;241m=\u001b[39m x\u001b[38;5;241m.\u001b[39mastype(dtype)\n",
      "File \u001b[0;32m~/anaconda3/envs/t3/lib/python3.11/site-packages/dask/base.py:372\u001b[0m, in \u001b[0;36mDaskMethodsMixin.compute\u001b[0;34m(self, **kwargs)\u001b[0m\n\u001b[1;32m    348\u001b[0m \u001b[38;5;28;01mdef\u001b[39;00m \u001b[38;5;21mcompute\u001b[39m(\u001b[38;5;28mself\u001b[39m, \u001b[38;5;241m*\u001b[39m\u001b[38;5;241m*\u001b[39mkwargs):\n\u001b[1;32m    349\u001b[0m \u001b[38;5;250m    \u001b[39m\u001b[38;5;124;03m\"\"\"Compute this dask collection\u001b[39;00m\n\u001b[1;32m    350\u001b[0m \n\u001b[1;32m    351\u001b[0m \u001b[38;5;124;03m    This turns a lazy Dask collection into its in-memory equivalent.\u001b[39;00m\n\u001b[0;32m   (...)\u001b[0m\n\u001b[1;32m    370\u001b[0m \u001b[38;5;124;03m    dask.compute\u001b[39;00m\n\u001b[1;32m    371\u001b[0m \u001b[38;5;124;03m    \"\"\"\u001b[39;00m\n\u001b[0;32m--> 372\u001b[0m     (result,) \u001b[38;5;241m=\u001b[39m compute(\u001b[38;5;28mself\u001b[39m, traverse\u001b[38;5;241m=\u001b[39m\u001b[38;5;28;01mFalse\u001b[39;00m, \u001b[38;5;241m*\u001b[39m\u001b[38;5;241m*\u001b[39mkwargs)\n\u001b[1;32m    373\u001b[0m     \u001b[38;5;28;01mreturn\u001b[39;00m result\n",
      "File \u001b[0;32m~/anaconda3/envs/t3/lib/python3.11/site-packages/dask/base.py:653\u001b[0m, in \u001b[0;36mcompute\u001b[0;34m(traverse, optimize_graph, scheduler, get, *args, **kwargs)\u001b[0m\n\u001b[1;32m    645\u001b[0m     \u001b[38;5;28;01mreturn\u001b[39;00m args\n\u001b[1;32m    647\u001b[0m schedule \u001b[38;5;241m=\u001b[39m get_scheduler(\n\u001b[1;32m    648\u001b[0m     scheduler\u001b[38;5;241m=\u001b[39mscheduler,\n\u001b[1;32m    649\u001b[0m     collections\u001b[38;5;241m=\u001b[39mcollections,\n\u001b[1;32m    650\u001b[0m     get\u001b[38;5;241m=\u001b[39mget,\n\u001b[1;32m    651\u001b[0m )\n\u001b[0;32m--> 653\u001b[0m dsk \u001b[38;5;241m=\u001b[39m collections_to_dsk(collections, optimize_graph, \u001b[38;5;241m*\u001b[39m\u001b[38;5;241m*\u001b[39mkwargs)\n\u001b[1;32m    654\u001b[0m keys, postcomputes \u001b[38;5;241m=\u001b[39m [], []\n\u001b[1;32m    655\u001b[0m \u001b[38;5;28;01mfor\u001b[39;00m x \u001b[38;5;129;01min\u001b[39;00m collections:\n",
      "File \u001b[0;32m~/anaconda3/envs/t3/lib/python3.11/site-packages/dask/base.py:422\u001b[0m, in \u001b[0;36mcollections_to_dsk\u001b[0;34m(collections, optimize_graph, optimizations, **kwargs)\u001b[0m\n\u001b[1;32m    420\u001b[0m \u001b[38;5;28;01mfor\u001b[39;00m opt, val \u001b[38;5;129;01min\u001b[39;00m groups\u001b[38;5;241m.\u001b[39mitems():\n\u001b[1;32m    421\u001b[0m     dsk, keys \u001b[38;5;241m=\u001b[39m _extract_graph_and_keys(val)\n\u001b[0;32m--> 422\u001b[0m     dsk \u001b[38;5;241m=\u001b[39m opt(dsk, keys, \u001b[38;5;241m*\u001b[39m\u001b[38;5;241m*\u001b[39mkwargs)\n\u001b[1;32m    424\u001b[0m     \u001b[38;5;28;01mfor\u001b[39;00m opt_inner \u001b[38;5;129;01min\u001b[39;00m optimizations:\n\u001b[1;32m    425\u001b[0m         dsk \u001b[38;5;241m=\u001b[39m opt_inner(dsk, keys, \u001b[38;5;241m*\u001b[39m\u001b[38;5;241m*\u001b[39mkwargs)\n",
      "File \u001b[0;32m~/anaconda3/envs/t3/lib/python3.11/site-packages/dask/array/optimization.py:29\u001b[0m, in \u001b[0;36moptimize\u001b[0;34m(dsk, keys, **kwargs)\u001b[0m\n\u001b[1;32m     27\u001b[0m dsk \u001b[38;5;241m=\u001b[39m optimize_blockwise(dsk, keys\u001b[38;5;241m=\u001b[39mkeys)\n\u001b[1;32m     28\u001b[0m dsk \u001b[38;5;241m=\u001b[39m fuse_roots(dsk, keys\u001b[38;5;241m=\u001b[39mkeys)\n\u001b[0;32m---> 29\u001b[0m dsk \u001b[38;5;241m=\u001b[39m dsk\u001b[38;5;241m.\u001b[39mcull(\u001b[38;5;28mset\u001b[39m(keys))\n\u001b[1;32m     31\u001b[0m \u001b[38;5;66;03m# Perform low-level fusion unless the user has\u001b[39;00m\n\u001b[1;32m     32\u001b[0m \u001b[38;5;66;03m# specified False explicitly.\u001b[39;00m\n\u001b[1;32m     33\u001b[0m \u001b[38;5;28;01mif\u001b[39;00m config\u001b[38;5;241m.\u001b[39mget(\u001b[38;5;124m\"\u001b[39m\u001b[38;5;124moptimization.fuse.active\u001b[39m\u001b[38;5;124m\"\u001b[39m) \u001b[38;5;129;01mis\u001b[39;00m \u001b[38;5;28;01mFalse\u001b[39;00m:\n",
      "File \u001b[0;32m~/anaconda3/envs/t3/lib/python3.11/site-packages/dask/highlevelgraph.py:727\u001b[0m, in \u001b[0;36mHighLevelGraph.cull\u001b[0;34m(self, keys)\u001b[0m\n\u001b[1;32m    723\u001b[0m \u001b[38;5;28;01mfrom\u001b[39;00m \u001b[38;5;21;01mdask\u001b[39;00m\u001b[38;5;21;01m.\u001b[39;00m\u001b[38;5;21;01mlayers\u001b[39;00m \u001b[38;5;28;01mimport\u001b[39;00m Blockwise\n\u001b[1;32m    725\u001b[0m keys_set \u001b[38;5;241m=\u001b[39m \u001b[38;5;28mset\u001b[39m(flatten(keys))\n\u001b[0;32m--> 727\u001b[0m all_ext_keys \u001b[38;5;241m=\u001b[39m \u001b[38;5;28mself\u001b[39m\u001b[38;5;241m.\u001b[39mget_all_external_keys()\n\u001b[1;32m    728\u001b[0m ret_layers: \u001b[38;5;28mdict\u001b[39m \u001b[38;5;241m=\u001b[39m {}\n\u001b[1;32m    729\u001b[0m ret_key_deps: \u001b[38;5;28mdict\u001b[39m \u001b[38;5;241m=\u001b[39m {}\n",
      "File \u001b[0;32m~/anaconda3/envs/t3/lib/python3.11/site-packages/dask/highlevelgraph.py:577\u001b[0m, in \u001b[0;36mHighLevelGraph.get_all_external_keys\u001b[0;34m(self)\u001b[0m\n\u001b[1;32m    572\u001b[0m keys: \u001b[38;5;28mset\u001b[39m \u001b[38;5;241m=\u001b[39m \u001b[38;5;28mset\u001b[39m()\n\u001b[1;32m    573\u001b[0m \u001b[38;5;28;01mfor\u001b[39;00m layer \u001b[38;5;129;01min\u001b[39;00m \u001b[38;5;28mself\u001b[39m\u001b[38;5;241m.\u001b[39mlayers\u001b[38;5;241m.\u001b[39mvalues():\n\u001b[1;32m    574\u001b[0m     \u001b[38;5;66;03m# Note: don't use `keys |= ...`, because the RHS is a\u001b[39;00m\n\u001b[1;32m    575\u001b[0m     \u001b[38;5;66;03m# collections.abc.Set rather than a real set, and this will\u001b[39;00m\n\u001b[1;32m    576\u001b[0m     \u001b[38;5;66;03m# cause a whole new set to be constructed.\u001b[39;00m\n\u001b[0;32m--> 577\u001b[0m     keys\u001b[38;5;241m.\u001b[39mupdate(layer\u001b[38;5;241m.\u001b[39mget_output_keys())\n\u001b[1;32m    578\u001b[0m \u001b[38;5;28mself\u001b[39m\u001b[38;5;241m.\u001b[39m_all_external_keys \u001b[38;5;241m=\u001b[39m keys\n\u001b[1;32m    579\u001b[0m \u001b[38;5;28;01mreturn\u001b[39;00m keys\n",
      "File \u001b[0;32m~/anaconda3/envs/t3/lib/python3.11/site-packages/dask/blockwise.py:630\u001b[0m, in \u001b[0;36mBlockwise.get_output_keys\u001b[0;34m(self)\u001b[0m\n\u001b[1;32m    627\u001b[0m     \u001b[38;5;28;01mreturn\u001b[39;00m {(\u001b[38;5;28mself\u001b[39m\u001b[38;5;241m.\u001b[39moutput, \u001b[38;5;241m*\u001b[39mp) \u001b[38;5;28;01mfor\u001b[39;00m p \u001b[38;5;129;01min\u001b[39;00m \u001b[38;5;28mself\u001b[39m\u001b[38;5;241m.\u001b[39moutput_blocks}\n\u001b[1;32m    629\u001b[0m \u001b[38;5;66;03m# Return all possible output keys (no culling)\u001b[39;00m\n\u001b[0;32m--> 630\u001b[0m \u001b[38;5;28;01mreturn\u001b[39;00m {\n\u001b[1;32m    631\u001b[0m     (\u001b[38;5;28mself\u001b[39m\u001b[38;5;241m.\u001b[39moutput, \u001b[38;5;241m*\u001b[39mp)\n\u001b[1;32m    632\u001b[0m     \u001b[38;5;28;01mfor\u001b[39;00m p \u001b[38;5;129;01min\u001b[39;00m itertools\u001b[38;5;241m.\u001b[39mproduct(\n\u001b[1;32m    633\u001b[0m         \u001b[38;5;241m*\u001b[39m[\u001b[38;5;28mrange\u001b[39m(\u001b[38;5;28mself\u001b[39m\u001b[38;5;241m.\u001b[39mdims[i]) \u001b[38;5;28;01mfor\u001b[39;00m i \u001b[38;5;129;01min\u001b[39;00m \u001b[38;5;28mself\u001b[39m\u001b[38;5;241m.\u001b[39moutput_indices]\n\u001b[1;32m    634\u001b[0m     )\n\u001b[1;32m    635\u001b[0m }\n",
      "File \u001b[0;32m~/anaconda3/envs/t3/lib/python3.11/site-packages/dask/blockwise.py:630\u001b[0m, in \u001b[0;36m<setcomp>\u001b[0;34m(.0)\u001b[0m\n\u001b[1;32m    627\u001b[0m     \u001b[38;5;28;01mreturn\u001b[39;00m {(\u001b[38;5;28mself\u001b[39m\u001b[38;5;241m.\u001b[39moutput, \u001b[38;5;241m*\u001b[39mp) \u001b[38;5;28;01mfor\u001b[39;00m p \u001b[38;5;129;01min\u001b[39;00m \u001b[38;5;28mself\u001b[39m\u001b[38;5;241m.\u001b[39moutput_blocks}\n\u001b[1;32m    629\u001b[0m \u001b[38;5;66;03m# Return all possible output keys (no culling)\u001b[39;00m\n\u001b[0;32m--> 630\u001b[0m \u001b[38;5;28;01mreturn\u001b[39;00m {\n\u001b[1;32m    631\u001b[0m     (\u001b[38;5;28mself\u001b[39m\u001b[38;5;241m.\u001b[39moutput, \u001b[38;5;241m*\u001b[39mp)\n\u001b[1;32m    632\u001b[0m     \u001b[38;5;28;01mfor\u001b[39;00m p \u001b[38;5;129;01min\u001b[39;00m itertools\u001b[38;5;241m.\u001b[39mproduct(\n\u001b[1;32m    633\u001b[0m         \u001b[38;5;241m*\u001b[39m[\u001b[38;5;28mrange\u001b[39m(\u001b[38;5;28mself\u001b[39m\u001b[38;5;241m.\u001b[39mdims[i]) \u001b[38;5;28;01mfor\u001b[39;00m i \u001b[38;5;129;01min\u001b[39;00m \u001b[38;5;28mself\u001b[39m\u001b[38;5;241m.\u001b[39moutput_indices]\n\u001b[1;32m    634\u001b[0m     )\n\u001b[1;32m    635\u001b[0m }\n",
      "\u001b[0;31mKeyboardInterrupt\u001b[0m: "
     ]
    }
   ],
   "source": [
    "TNmin = TNmin(tmin)\n",
    "TNmin"
   ]
  }
 ],
 "metadata": {
  "kernelspec": {
   "display_name": "t3",
   "language": "python",
   "name": "python3"
  },
  "language_info": {
   "codemirror_mode": {
    "name": "ipython",
    "version": 3
   },
   "file_extension": ".py",
   "mimetype": "text/x-python",
   "name": "python",
   "nbconvert_exporter": "python",
   "pygments_lexer": "ipython3",
   "version": "3.11.11"
  }
 },
 "nbformat": 4,
 "nbformat_minor": 2
}
